{
 "cells": [
  {
   "cell_type": "code",
   "execution_count": null,
   "id": "d17ea15e",
   "metadata": {},
   "outputs": [
    {
     "name": "stdout",
     "output_type": "stream",
     "text": [
      "Loading sentiment model and tokenizer...\n"
     ]
    }
   ],
   "source": [
    "# Step 1: Disable TensorFlow loading\n",
    "import os\n",
    "os.environ[\"USE_TF\"] = \"0\"\n",
    "\n",
    "# Step 2: Import libraries\n",
    "import pandas as pd\n",
    "from transformers import AutoTokenizer, AutoModelForSequenceClassification\n",
    "import torch\n",
    "import torch.nn.functional as F\n",
    "\n",
    "# Step 3: Load your dataset \n",
    "file_path =r\"C:\\Users\\hanna\\OneDrive\\ethiopian-airlines-review-analysis\\datasets\\merged_data\\merged_cleaned_ethiopian_airlines_reviews.csv\"\n",
    "df = pd.read_csv(file_path)  \n",
    "\n",
    "# Step 4: Load sentiment model\n",
    "print(\"Loading sentiment model and tokenizer...\")\n",
    "model_name = \"cardiffnlp/twitter-roberta-base-sentiment\"\n",
    "tokenizer = AutoTokenizer.from_pretrained(model_name)\n",
    "model = AutoModelForSequenceClassification.from_pretrained(model_name)\n",
    "model.eval()\n",
    "device = torch.device(\"cuda\" if torch.cuda.is_available() else \"cpu\")\n",
    "model.to(device)\n",
    "labels = ['Negative', 'Neutral', 'Positive']\n",
    "\n",
    "# Step 5: Sentiment function\n",
    "def get_sentiment(text):\n",
    "    if not text.strip():\n",
    "        return 'neutral'\n",
    "    encoded = tokenizer(text, return_tensors='pt', truncation=True, padding=True, max_length=512)\n",
    "    input_ids = encoded['input_ids'].to(device)\n",
    "    attention_mask = encoded['attention_mask'].to(device)\n",
    "    with torch.no_grad():\n",
    "        output = model(input_ids, attention_mask=attention_mask)\n",
    "        probs = F.softmax(output.logits, dim=-1)\n",
    "    return labels[torch.argmax(probs).item()]"
   ]
  }
 ],
 "metadata": {
  "kernelspec": {
   "display_name": "Python 3",
   "language": "python",
   "name": "python3"
  },
  "language_info": {
   "codemirror_mode": {
    "name": "ipython",
    "version": 3
   },
   "file_extension": ".py",
   "mimetype": "text/x-python",
   "name": "python",
   "nbconvert_exporter": "python",
   "pygments_lexer": "ipython3",
   "version": "3.13.3"
  }
 },
 "nbformat": 4,
 "nbformat_minor": 5
}
