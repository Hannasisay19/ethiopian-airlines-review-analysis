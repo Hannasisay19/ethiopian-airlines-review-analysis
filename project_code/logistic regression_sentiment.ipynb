{
 "cells": [
  {
   "cell_type": "code",
   "execution_count": null,
   "id": "f7d29a37-8826-4bf7-bb01-5b0520c16959",
   "metadata": {},
   "outputs": [],
   "source": [
    "# Logistic Regression – Sentiment Classification with Graphs\n",
    "\n",
    "# Step 1: Import libraries\n",
    "import pandas as pd\n",
    "from sklearn.model_selection import train_test_split\n",
    "from sklearn.preprocessing import LabelEncoder\n",
    "from sklearn.feature_extraction.text import TfidfVectorizer\n",
    "from sklearn.linear_model import LogisticRegression\n",
    "from sklearn.metrics import accuracy_score, precision_score, recall_score, confusion_matrix\n",
    "import matplotlib.pyplot as plt\n",
    "import seaborn as sns\n",
    "\n",
    "# Step 2: Load dataset\n",
    "file_path = \"../datasets/labeled_data/scraped_tripadvisor_ethiopian_airlines_reviews.csv\"\n",
    "df = pd.read_csv(file_path)\n",
    "\n",
    "# Step 1: Import libraries\n",
    "import pandas as pd\n",
    "from sklearn.model_selection import train_test_split\n",
    "from sklearn.preprocessing import LabelEncoder\n",
    "from sklearn.feature_extraction.text import TfidfVectorizer\n",
    "\n",
    "# Step 2: Load dataset\n",
    "file_path = \"../datasets/labeled_data/scraped_tripadvisor_ethiopian_airlines_reviews.csv\"\n",
    "df = pd.read_csv(file_path) \n",
    "\n",
    "# Step 3: Encode sentiment labels\n",
    "label_encoder = LabelEncoder()\n",
    "df['label'] = label_encoder.fit_transform(df['overall_sentiment'])\n",
    "\n",
    "# Step 4: TF-IDF Vectorization\n",
    "X = TfidfVectorizer(max_features=500).fit_transform(df['review_comment']).toarray()\n",
    "y = df['label']\n",
    "\n",
    "# Step 5: Train-Test Split\n",
    "X_train, X_test, y_train, y_test = train_test_split(\n",
    "    X, y, test_size=0.2, random_state=42\n",
    ")\n"
   ]
  }
 ],
 "metadata": {
  "kernelspec": {
   "display_name": "Python 3 (ipykernel)",
   "language": "python",
   "name": "python3"
  },
  "language_info": {
   "codemirror_mode": {
    "name": "ipython",
    "version": 3
   },
   "file_extension": ".py",
   "mimetype": "text/x-python",
   "name": "python",
   "nbconvert_exporter": "python",
   "pygments_lexer": "ipython3",
   "version": "3.12.4"
  }
 },
 "nbformat": 4,
 "nbformat_minor": 5
}
