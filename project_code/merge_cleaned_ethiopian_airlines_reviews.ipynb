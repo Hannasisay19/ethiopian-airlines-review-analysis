{
 "cells": [
  {
   "cell_type": "code",
   "execution_count": null,
   "id": "390e5998-277f-47e4-9955-1b75c7d0bc53",
   "metadata": {},
   "outputs": [
    {
     "name": "stdout",
     "output_type": "stream",
     "text": [
      "Final cleaned review dataset saved to: C:\\Users\\abro27\\OneDrive\\Desktop\\Mak\\Education\\3.Data_Analytics\\Final Project\\Capstone Projects\\Datas\\Final_DataSet\\merged_cleaned_ethiopian_airlines_reviews.csv\n",
      "Total records: 4738\n"
     ]
    }
   ],
   "source": [
    "import pandas as pd\n",
    "import os\n",
    "from datetime import datetime\n",
    "\n",
    "# Step 1: Load tagged AirlineQuality and TripAdvisor review files\n",
    "file_airline = \"../data_cleaning/cleaned_airlinequality_ethiopian_airlines_reviews.csv\"\n",
    "file_trip = \"../data_cleaning/cleaned_tripadvisor_ethiopian_airlines_reviews.csv\"\n",
    "\n",
    "# Step 2: Read both datasets\n",
    "df_airline = pd.read_csv(file_airline)\n",
    "df_trip = pd.read_csv(file_trip)\n",
    "\n",
    "# Step 3: Standardize column names and align structure\n",
    "df_airline.columns = df_airline.columns.str.strip().str.lower()\n",
    "df_trip.columns = df_trip.columns.str.strip().str.lower()\n",
    "df_trip.columns = df_airline.columns  # Ensure columns match exactly\n",
    "\n",
    "# Step 4: Merge the datasets\n",
    "merged_df = pd.concat([df_airline, df_trip], ignore_index=True)\n",
    "\n",
    "# Step 5: Normalize date columns and sort by year and month\n",
    "month_map = {\n",
    "    'jan': 1, 'feb': 2, 'mar': 3, 'apr': 4, 'may': 5, 'jun': 6,\n",
    "    'jul': 7, 'aug': 8, 'sep': 9, 'oct': 10, 'nov': 11, 'dec': 12\n",
    "}\n",
    "merged_df['month_num'] = merged_df['month'].str[:3].str.lower().map(month_map)\n",
    "merged_df['year'] = pd.to_numeric(merged_df['year'], errors='coerce')\n",
    "\n",
    "# Step 6: Filter out future years based on the system's current year\n",
    "current_year = datetime.now().year\n",
    "merged_df = merged_df[merged_df['year'] <= current_year].reset_index(drop=True)\n",
    "\n",
    "# Step 7: Sort and finalize structure\n",
    "merged_df.sort_values(by=['year', 'month_num'], inplace=True)\n",
    "merged_df.drop(columns='month_num', inplace=True)\n",
    "merged_df.reset_index(drop=True, inplace=True)\n",
    "\n",
    "# Step 8: Drop duplicate rows\n",
    "merged_df.drop_duplicates(inplace=True)\n",
    "\n",
    "# Step 9: Save the cleaned and merged output file\n",
    "final_output = \"../data_merging/merged_cleaned_ethiopian_airlines_reviews.csv\"\n",
    "os.makedirs(os.path.dirname(final_output), exist_ok=True)\n",
    "merged_df.to_csv(final_output, index=False, encoding='utf-8')\n",
    "\n",
    "# Step 10: Summary preview\n",
    "print(\"Final cleaned review dataset saved to:\", final_output)\n",
    "print(\"Total records:\", len(merged_df))\n"
   ]
  },
  {
   "cell_type": "code",
   "execution_count": null,
   "id": "d2aa9141-3892-4a10-b632-5242bddd7422",
   "metadata": {},
   "outputs": [],
   "source": []
  }
 ],
 "metadata": {
  "kernelspec": {
   "display_name": "Python 3 (ipykernel)",
   "language": "python",
   "name": "python3"
  },
  "language_info": {
   "codemirror_mode": {
    "name": "ipython",
    "version": 3
   },
   "file_extension": ".py",
   "mimetype": "text/x-python",
   "name": "python",
   "nbconvert_exporter": "python",
   "pygments_lexer": "ipython3",
   "version": "3.12.4"
  }
 },
 "nbformat": 4,
 "nbformat_minor": 5
}
