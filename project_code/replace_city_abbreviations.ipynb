{
 "cells": [
  {
   "cell_type": "code",
   "execution_count": 19,
   "id": "2883c4ae-0593-4bf8-aa58-187727adf823",
   "metadata": {},
   "outputs": [
    {
     "name": "stdout",
     "output_type": "stream",
     "text": [
      "Standardization complete! Saved as 'C:\\Users\\abro27\\OneDrive\\Desktop\\Mak\\Education\\3.Data_Analytics\\Final Project\\Capstone Projects\\Datas\\Sentiment_Analysis\\ethiopian_airlines_overall_sentiment_final.csv'.\n"
     ]
    }
   ],
   "source": [
    "import pandas as pd\n",
    "\n",
    "# Set your file paths\n",
    "input_csv = r'C:\\Users\\abro27\\OneDrive\\Desktop\\Mak\\Education\\3.Data_Analytics\\Final Project\\Capstone Projects\\Datas\\Sentiment_Analysis\\ethiopian_airlines_overall_sentiment.csv'\n",
    "output_standardized = r'C:\\Users\\abro27\\OneDrive\\Desktop\\Mak\\Education\\3.Data_Analytics\\Final Project\\Capstone Projects\\Datas\\Sentiment_Analysis\\ethiopian_airlines_overall_sentiment_final.csv'\n",
    "\n",
    "# Load your data\n",
    "df = pd.read_csv(input_csv)\n",
    "\n",
    "# IATA to city mapping (horizontal format for easy pasting)\n",
    "iata_to_city = {\n",
    "    'ABB': 'Asaba',\n",
    "    'ABV': 'Abuja',\n",
    "    'ACC': 'Accra',\n",
    "    'ADD': 'Addis Ababa',\n",
    "    'ARN': 'Stockholm',\n",
    "    'BKK': 'Bangkok',\n",
    "    'BLZ': 'Belize City',\n",
    "    'BOM': 'Mumbai',\n",
    "    'BRU': 'Brussels',\n",
    "    'CDG': 'Paris',\n",
    "    'COO': 'Cotonou',\n",
    "    'CPT': 'Cape Town',\n",
    "    'DAR': 'Dar es Salaam',\n",
    "    'DEL': 'Delhi',\n",
    "    'DLA': 'Douala',\n",
    "    'DUB': 'Dublin',\n",
    "    'DUR': 'Durban',\n",
    "    'DXB': 'Dubai',\n",
    "    'EBB': 'Entebbe',\n",
    "    'EWR': 'Newark',\n",
    "    'FCO': 'Rome',\n",
    "    'FIH': 'Kinshasa',\n",
    "    'FRA': 'Frankfurt',\n",
    "    'GRU': 'São Paulo',\n",
    "    'HKG': 'Hong Kong',\n",
    "    'HRE': 'Harare',\n",
    "    'IAD': 'Washington DC',\n",
    "    'JED': 'Jeddah',\n",
    "    'JNB': 'Johannesburg',\n",
    "    'JRO': 'Kilimanjaro',\n",
    "    'JUB': 'Juba',\n",
    "    'KRT': 'Khartoum',\n",
    "    'KUL': 'Kuala Lumpur',\n",
    "    'LAD': 'Luanda',\n",
    "    'LAX': 'Los Angeles',\n",
    "    'LHR': 'London',\n",
    "    'LLW': 'Lilongwe',\n",
    "    'LOS': 'Lagos',\n",
    "    'MBA': 'Mombasa',\n",
    "    'MNL': 'Manila',\n",
    "    'MXP': 'Milan',\n",
    "    'NBO': 'Nairobi',\n",
    "    'NLA': 'Ndola',\n",
    "    'NSI': 'Yaoundé',\n",
    "    'SEZ': 'Mahe (Seychelles)',\n",
    "    'TLV': 'Tel Aviv',\n",
    "    'VIE': 'Vienna',\n",
    "    'WDH': 'Windhoek',\n",
    "    'YYZ': 'Toronto',\n",
    "    'ZNZ': 'Zanzibar',\n",
    "}\n",
    "# Function to replace IATA codes with city name\n",
    "def replace_if_iata(x):\n",
    "    val = x.strip().upper() if isinstance(x, str) else x\n",
    "    return iata_to_city.get(val, x)\n",
    "\n",
    "# Apply the function to both columns\n",
    "df['departure_city'] = df['departure_city'].apply(replace_if_iata)\n",
    "df['arrival_city'] = df['arrival_city'].apply(replace_if_iata)\n",
    "\n",
    "# Save to a new CSV (no helper columns)\n",
    "df.to_csv(output_standardized, index=False)\n",
    "print(f\"Standardization complete! Saved as '{output_standardized}'.\")\n"
   ]
  },
  {
   "cell_type": "code",
   "execution_count": null,
   "id": "d61841be-ab98-463c-b840-85b6929d3964",
   "metadata": {},
   "outputs": [],
   "source": []
  }
 ],
 "metadata": {
  "kernelspec": {
   "display_name": "Python 3 (ipykernel)",
   "language": "python",
   "name": "python3"
  },
  "language_info": {
   "codemirror_mode": {
    "name": "ipython",
    "version": 3
   },
   "file_extension": ".py",
   "mimetype": "text/x-python",
   "name": "python",
   "nbconvert_exporter": "python",
   "pygments_lexer": "ipython3",
   "version": "3.12.4"
  }
 },
 "nbformat": 4,
 "nbformat_minor": 5
}
